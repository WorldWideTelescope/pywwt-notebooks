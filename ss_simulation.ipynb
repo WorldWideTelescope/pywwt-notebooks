{
 "cells": [
  {
   "cell_type": "code",
   "execution_count": 1,
   "metadata": {},
   "outputs": [],
   "source": [
    "from pywwt.jupyter import WWTJupyterWidget\n",
    "from astropy.coordinates import SkyCoord, concatenate\n",
    "from astropy import units as u\n",
    "from astropy.time import Time\n",
    "import time\n",
    "wwt = WWTJupyterWidget()"
   ]
  },
  {
   "cell_type": "code",
   "execution_count": 2,
   "metadata": {},
   "outputs": [
    {
     "data": {
      "application/vnd.jupyter.widget-view+json": {
       "model_id": "4980f6bfdbcd4293aa7d92dbb6d562c7",
       "version_major": 2,
       "version_minor": 0
      },
      "text/plain": [
       "A Jupyter Widget"
      ]
     },
     "metadata": {},
     "output_type": "display_data"
    }
   ],
   "source": [
    "wwt"
   ]
  },
  {
   "cell_type": "code",
   "execution_count": 3,
   "metadata": {},
   "outputs": [],
   "source": [
    "wwt.set_view('solar_system')\n",
    "wwt.solar_system.scale = 99\n",
    "wwt.solar_system.track_object('sun')\n",
    "wwt.solar_system.orbits = False"
   ]
  },
  {
   "cell_type": "code",
   "execution_count": 4,
   "metadata": {},
   "outputs": [],
   "source": [
    "wwt.center_on_coordinates(SkyCoord(339.32980758, 20.78999814, unit=u.deg), fov=.6*u.deg)"
   ]
  },
  {
   "cell_type": "code",
   "execution_count": 5,
   "metadata": {},
   "outputs": [],
   "source": [
    "# show three earth months of the SS in 2019\n",
    "tm = Time('2019-07-01')\n",
    "tm.format = 'jd'\n",
    "start = tm.value\n",
    "\n",
    "while(tm.value - start <= 92):\n",
    "    wwt.set_current_time(tm)\n",
    "    time.sleep(.1)\n",
    "    tm = Time(tm.value + .5, format='jd')"
   ]
  }
 ],
 "metadata": {
  "kernelspec": {
   "display_name": "Python 3",
   "language": "python",
   "name": "python3"
  },
  "language_info": {
   "codemirror_mode": {
    "name": "ipython",
    "version": 3
   },
   "file_extension": ".py",
   "mimetype": "text/x-python",
   "name": "python",
   "nbconvert_exporter": "python",
   "pygments_lexer": "ipython3",
   "version": "3.6.3"
  }
 },
 "nbformat": 4,
 "nbformat_minor": 2
}
