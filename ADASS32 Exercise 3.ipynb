{
 "cells": [
  {
   "cell_type": "markdown",
   "metadata": {},
   "source": [
    "# ADASS32: Exercise 3\n",
    "\n",
    "This exercise is intended to take about 15 minutes. As usual, please ask in the Whova chat if you run into any problems or need any clarifications. For “big-picture” questions, there will time for a debrief/Q&A after the exercise."
   ]
  },
  {
   "cell_type": "markdown",
   "metadata": {},
   "source": [
    "---\n",
    "\n",
    "## Step 1: Setup\n",
    "\n",
    "If you haven’t yet done so, download the files [rh04475_00_01ww_tnx.fit] (729 MiB) and [HFI_SkyMap_857_2048_R2.02_full.fits] (576 MiB) into your notebooks folder.\n",
    "\n",
    "[rh04475_00_01ww_tnx.fit]: https://data1.wwtassets.org/packages/2022/06_fits_studies/rh04475_00_01ww_tnx.fit\n",
    "[HFI_SkyMap_857_2048_R2.02_full.fits]: https://irsa.ipac.caltech.edu/data/Planck/release_2/all-sky-maps/maps/HFI_SkyMap_857_2048_R2.02_full.fits\n",
    "\n",
    "Open up the WWT app if needed. If the JupyterLab launcher isn’t handy, you can use the “View ⇒ Activate command palette” menu option and then select “AAS WorldWide Telescope”.\n",
    "\n",
    "Connect this notebook to the app with:"
   ]
  },
  {
   "cell_type": "code",
   "execution_count": null,
   "metadata": {},
   "outputs": [],
   "source": [
    "from pywwt.jupyter import connect_to_app\n",
    "wwt = await connect_to_app().becomes_ready()"
   ]
  },
  {
   "cell_type": "markdown",
   "metadata": {},
   "source": [
    "The following command will make the environment a bit more uniform:"
   ]
  },
  {
   "cell_type": "code",
   "execution_count": null,
   "metadata": {},
   "outputs": [],
   "source": [
    "wwt.foreground_opacity = 0"
   ]
  },
  {
   "cell_type": "markdown",
   "metadata": {},
   "source": [
    "---\n",
    "\n",
    "## Step 2: Small FITS images\n",
    "\n",
    "Small FITS images can actually be visualized in WWT without any tiling. For instance, this WISE 12µm image towards the [Westerhout 5 star forming region](https://en.wikipedia.org/wiki/Westerhout_5) can be loaded in as-is:"
   ]
  },
  {
   "cell_type": "code",
   "execution_count": null,
   "metadata": {},
   "outputs": [],
   "source": [
    "from os.path import join as pjoin\n",
    "layer_w5 = wwt.layers.add_image_layer(pjoin('data', 'w5.fits'))"
   ]
  },
  {
   "cell_type": "markdown",
   "metadata": {},
   "source": [
    "Such images do, however, need to be provided to WWT in a TAN projection. pywwt will reproject small inputs if needed.\n",
    "\n",
    "You can control FITS display settings from Python as well as using the app's interactive interface. For instance:"
   ]
  },
  {
   "cell_type": "code",
   "execution_count": null,
   "metadata": {},
   "outputs": [],
   "source": [
    "layer_w5.cmap = 'plasma'\n",
    "layer_w5.vmin = 400\n",
    "layer_w5.vmax = 1000\n",
    "layer_w5.stretch = 'sqrt'\n",
    "layer_w5.opacity = 0.9"
   ]
  },
  {
   "cell_type": "markdown",
   "metadata": {},
   "source": [
    "There are currently some limitations in pywwt that limit the synchronization between the Python code and the WWT app, so mixing and matching the two interfaces can sometimes lead to unexpected results."
   ]
  },
  {
   "cell_type": "markdown",
   "metadata": {},
   "source": [
    "---\n",
    "\n",
    "# Step 3: On-the-fly tiling\n",
    "\n",
    "If your input image is large, pywwt will use Toasty to tile it on-the-fly. The following command will load a photographic plate scanned by the DASCH project. **It may take several minutes to run** for this particular input image, even using all of your CPUs."
   ]
  },
  {
   "cell_type": "code",
   "execution_count": null,
   "metadata": {},
   "outputs": [],
   "source": [
    "layer_dash = wwt.layers.add_image_layer('rh04475_00_01ww_tnx.fit')"
   ]
  },
  {
   "cell_type": "markdown",
   "metadata": {},
   "source": [
    "While you're waiting:\n",
    "\n",
    "- Play around with the W5 image. Note that the WWT app is still interactive and functional while your kernel is doing its data processing.\n",
    "- Use a program like `htop` to verify that Toasty is using all of your CPUs.\n",
    "- Explore some of the other sample notebooks, like [GRBs Over Time](./GRBs%20Over%20Time.ipynb) or [Adding Annotations](./Adding%20Annotations.ipynb). Since they will have their own kernels, they won't be held up by the processing happening here.\n",
    "\n",
    "Once the image loads, change the WWT background to `PanSTARRS1 3pi` and verify that this image lines up with the night sky. This image is nearly centered on the celestial north pole, so you might encounter some “gimbal lock” while panning the WWT UI around.\n",
    "\n",
    "Fortunately, the tiled data are cached. If you remove the image layer and rerun the cell above, it should finish instantly."
   ]
  },
  {
   "cell_type": "markdown",
   "metadata": {},
   "source": [
    "---\n",
    "\n",
    "# Step 4: Custom processing\n",
    "\n",
    "While pywwt's built-in logic aims to handle all sorts of input images, there will always be corner cases where you need to give more explicit instructions.\n",
    "\n",
    "To demonstrate those steps, and help show all of the pieces that need to come together to display images, we'll work through an example HEALPix image that needs special handling. First we import the lower-level modules:"
   ]
  },
  {
   "cell_type": "code",
   "execution_count": null,
   "metadata": {},
   "outputs": [],
   "source": [
    "from toasty.builder import Builder\n",
    "from toasty.merge import averaging_merger, cascade_images\n",
    "from toasty.pyramid import PyramidIO\n",
    "from toasty.samplers import healpix_fits_file_sampler"
   ]
  },
  {
   "cell_type": "markdown",
   "metadata": {},
   "source": [
    "And set up the inputs:"
   ]
  },
  {
   "cell_type": "code",
   "execution_count": null,
   "metadata": {},
   "outputs": [],
   "source": [
    "hpxpath = \"HFI_SkyMap_857_2048_R2.02_full.fits\"\n",
    "depth = 6\n",
    "outdir = \"hfi\""
   ]
  },
  {
   "cell_type": "markdown",
   "metadata": {},
   "source": [
    "Set up the variables that will help resample the HEALPix pixelization onto the TOAST pixelization:"
   ]
  },
  {
   "cell_type": "code",
   "execution_count": null,
   "metadata": {},
   "outputs": [],
   "source": [
    "pio = PyramidIO(outdir, default_format=\"fits\")\n",
    "builder = Builder(pio)\n",
    "sampler = healpix_fits_file_sampler(hpxpath, force_galactic=True)"
   ]
  },
  {
   "cell_type": "markdown",
   "metadata": {},
   "source": [
    "Sample the bottom layer. This will probably take around a minute to run."
   ]
  },
  {
   "cell_type": "code",
   "execution_count": null,
   "metadata": {},
   "outputs": [],
   "source": [
    "builder.toast_base(sampler, depth, cli_progress=True)"
   ]
  },
  {
   "cell_type": "markdown",
   "metadata": {},
   "source": [
    "Emit the metadata that the WWT engine needs to know how to run this file:"
   ]
  },
  {
   "cell_type": "code",
   "execution_count": null,
   "metadata": {},
   "outputs": [],
   "source": [
    "builder.write_index_rel_wtml()"
   ]
  },
  {
   "cell_type": "markdown",
   "metadata": {},
   "source": [
    "Now run the downsampling cascade. This should be pretty quick because after the base layer resampling, this step is computationally inexpensive:"
   ]
  },
  {
   "cell_type": "code",
   "execution_count": null,
   "metadata": {},
   "outputs": [],
   "source": [
    "cascade_images(pio, depth, averaging_merger, cli_progress=True)"
   ]
  },
  {
   "cell_type": "markdown",
   "metadata": {},
   "source": [
    "That was everything we needed to generate the data. To display them in this JupyterLab session, we first use the WWT Kernel Data Relay to start serving the generated files through the Jupyter server:"
   ]
  },
  {
   "cell_type": "code",
   "execution_count": null,
   "metadata": {},
   "outputs": [],
   "source": [
    "url = wwt._serve_tree(path=outdir)\n",
    "print(url)"
   ]
  },
  {
   "cell_type": "markdown",
   "metadata": {},
   "source": [
    "Then make the WWT engine aware of the data:"
   ]
  },
  {
   "cell_type": "code",
   "execution_count": null,
   "metadata": {},
   "outputs": [],
   "source": [
    "wwt.load_image_collection(url=url + \"index.wtml\", remote_only=True)"
   ]
  },
  {
   "cell_type": "markdown",
   "metadata": {},
   "source": [
    "Finally, tell the engine to add the imagery as a layer in the current view:"
   ]
  },
  {
   "cell_type": "code",
   "execution_count": null,
   "metadata": {},
   "outputs": [],
   "source": [
    "layer_hfi = wwt.layers.add_preloaded_image_layer(url=url + builder.imgset.url, name=\"HFI\")"
   ]
  },
  {
   "cell_type": "markdown",
   "metadata": {},
   "source": [
    "As loaded, the image pixel cuts are way off. Change the stretch to *Logarithmic* and reduce the *High cutoff* until you can see structure.\n",
    "\n",
    "Try changing the background image to something like *GLIMPSE 360*, then blinking the HFI image on and off, to see if structures in the galactic plane align. (GLIMPSE 360 only covers a narrow range of latitude above and below the galactic midplane.)\n",
    "\n",
    "Open the top-level tiled FITS file, `hfi/0/0/0_0.fits`, in your favorite desktop FITS viewer to get a sense for the way that the galactic plane maps onto the TOAST projection."
   ]
  },
  {
   "cell_type": "markdown",
   "metadata": {},
   "source": [
    "---\n",
    "\n",
    "# Extra Time?\n",
    "\n",
    "If you have extra time, you can investigate why the DASCH image had to be tiled with the TOAST format even though it is not an all-sky image.\n",
    "\n",
    "We can force Toasty to tile it using WWT's TAN format as follows. This tiling process will once again take several minutes. Due to the way that the tiling process is implemented in this mode, **the progress bar will not show any movement**. But processing is still going if the cell label looks like `[*]`, with an asterisk:"
   ]
  },
  {
   "cell_type": "code",
   "execution_count": null,
   "metadata": {},
   "outputs": [],
   "source": [
    "from toasty import TilingMethod\n",
    "wwt.layers.add_image_layer(\n",
    "    'rh04475_00_01ww_tnx.fit', \n",
    "    tiling_method=TilingMethod.TAN\n",
    ")"
   ]
  },
  {
   "cell_type": "markdown",
   "metadata": {},
   "source": [
    "Overlay this image with the one generated using the TOAST method. Set the TAN image to be partially opaque. If you pan the view around at the right zoom level, you should be able to see the corners of the TAN image *moving* relative to the corners of the TOAST image. This happens due to the approximates used in the TAN rendering code, which break down at large angular scales."
   ]
  }
 ],
 "metadata": {
  "kernelspec": {
   "display_name": "Python 3 (ipykernel)",
   "language": "python",
   "name": "python3"
  },
  "language_info": {
   "codemirror_mode": {
    "name": "ipython",
    "version": 3
   },
   "file_extension": ".py",
   "mimetype": "text/x-python",
   "name": "python",
   "nbconvert_exporter": "python",
   "pygments_lexer": "ipython3",
   "version": "3.10.6"
  }
 },
 "nbformat": 4,
 "nbformat_minor": 4
}
