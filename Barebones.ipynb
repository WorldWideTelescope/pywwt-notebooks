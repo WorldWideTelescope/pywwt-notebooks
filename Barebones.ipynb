{
 "cells": [
  {
   "cell_type": "markdown",
   "metadata": {},
   "source": [
    "## Barebones pywwt Notebook Template\n",
    "\n",
    "This is the most basic way to get a [pywwt][pywwt] \"widget\" open in a Jupyter notebook or JupyterLab environment. Start off by importing the `WWTJupyterWidget` class:\n",
    "\n",
    "[pywwt]: https://pywwt.readthedocs.io/"
   ]
  },
  {
   "cell_type": "code",
   "execution_count": null,
   "metadata": {},
   "outputs": [],
   "source": [
    "from pywwt.jupyter import WWTJupyterWidget"
   ]
  },
  {
   "cell_type": "markdown",
   "metadata": {},
   "source": [
    "Then create an instance of the widget. Crucially, the second line (containing just `wwt`) causes the widget to be activated in your notebook, and not just assigned to a variable for later use."
   ]
  },
  {
   "cell_type": "code",
   "execution_count": null,
   "metadata": {},
   "outputs": [],
   "source": [
    "wwt = WWTJupyterWidget()\n",
    "wwt"
   ]
  },
  {
   "cell_type": "markdown",
   "metadata": {},
   "source": [
    "*If you're using JupyterLab* and not just a plain Jupyter notebook, you can move the WWT view to a separate window pane. This is **extremeley** useful since it lets you keep on typing code without scrolling WWT out of view. Here's how you do that:\n",
    "\n",
    "![Right click and select \"Create New View for Output\"](data/separate-pane-instructions.jpg)\n",
    "\n",
    "Finally, here's a tiny bit of sample code that controls the widget:"
   ]
  },
  {
   "cell_type": "code",
   "execution_count": null,
   "metadata": {},
   "outputs": [],
   "source": [
    "from astropy import units as u\n",
    "from astropy.coordinates import SkyCoord\n",
    "m31 = SkyCoord('00h42m44.330s +41d16m07.50s')\n",
    "wwt.center_on_coordinates(m31, fov=10 * u.deg)\n",
    "wwt.add_circle(m31, radius=1 * u.deg)\n",
    "wwt.constellation_figures = True"
   ]
  },
  {
   "cell_type": "markdown",
   "metadata": {},
   "source": [
    "Learn more about how to use pywwt at [our documentation](https://pywwt.readthedocs.io) or [our YouTube channel](https://www.youtube.com/playlist?list=PLozhKWk-h8YDYSRHzeLmznlQZHM29F18i)!"
   ]
  }
 ],
 "metadata": {
  "kernelspec": {
   "display_name": "Python 3",
   "language": "python",
   "name": "python3"
  },
  "language_info": {
   "codemirror_mode": {
    "name": "ipython",
    "version": 3
   },
   "file_extension": ".py",
   "mimetype": "text/x-python",
   "name": "python",
   "nbconvert_exporter": "python",
   "pygments_lexer": "ipython3",
   "version": "3.7.6"
  }
 },
 "nbformat": 4,
 "nbformat_minor": 4
}
