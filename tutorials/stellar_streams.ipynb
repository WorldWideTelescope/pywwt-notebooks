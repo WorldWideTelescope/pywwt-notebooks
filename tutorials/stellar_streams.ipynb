{
 "cells": [
  {
   "cell_type": "markdown",
   "metadata": {},
   "source": [
    "(under construction)\n",
    "\n",
    "Adapted from [a notebook](https://nbviewer.jupyter.org/github/marksubbarao/pyWWT_AAS225/blob/master/SgrStream.ipynb) by Mark SubbaRao that uses files from [here](http://www.astro.virginia.edu/~srm4n/Sgr/data.html) and visualizes the tidal disruption of the Sagittarius Dwarf Galaxy described in [Law & Majewski 2010](https://iopscience.iop.org/article/10.1088/0004-637X/714/1/229)."
   ]
  },
  {
   "cell_type": "code",
   "execution_count": null,
   "metadata": {},
   "outputs": [],
   "source": [
    "import time\n",
    "\n",
    "from astropy.coordinates import SkyCoord\n",
    "from astropy import units as u\n",
    "from astropy.table import Table, Column\n",
    "from astropy.time import Time, TimeDelta\n",
    "\n",
    "import numpy as np\n",
    "\n",
    "from astroquery.vizier import Vizier\n",
    "from astroquery.nasa_exoplanet_archive import NasaExoplanetArchive\n",
    "\n",
    "from pywwt.jupyter import WWTJupyterWidget"
   ]
  },
  {
   "cell_type": "code",
   "execution_count": null,
   "metadata": {},
   "outputs": [],
   "source": [
    "wwt = WWTJupyterWidget()\n",
    "#wwt"
   ]
  },
  {
   "cell_type": "code",
   "execution_count": null,
   "metadata": {},
   "outputs": [],
   "source": [
    "# import and manipulate a table with stellar stream data\n",
    "stars = Table.read('https://raw.githubusercontent.com/WorldWideTelescope/pywwt-notebooks/137d6a398b4ba0b6de332cd4603e8e40c74bedcf/tutorials/data/SgrTriax_DYN.dat',\n",
    "                   format='ascii.basic')\n",
    "#stars = Table.read('SgrTriax_DYN.dat', format='ascii.basic')\n",
    "stars.keep_columns([\"ra\",\"dec\",\"dist\",\"Pcol\"])\n",
    "stars['ra'].unit = u.deg\n",
    "stars['dec'].unit = u.deg\n",
    "stars['dist'] *= 1000\n",
    "stars['dist'].unit = u.pc\n",
    "#stars.rename_column('dist','distance')\n",
    "\n",
    "# add a column of colors for each point for pywwt to read\n",
    "stars['colormap'] = '#000000'\n",
    "for i, val in enumerate(stars['Pcol']):\n",
    "    if val == -1:\n",
    "        stars['colormap'][i] = '#c0c0c0' # silver\n",
    "    elif val == 0 or val == 1:\n",
    "        stars['colormap'][i] = '#ffa500' # orange\n",
    "    elif val == 2 or val == 3:\n",
    "        stars['colormap'][i] = '#ff00ff' # magenta\n",
    "    elif val == 4 or val == 5:\n",
    "        stars['colormap'][i] = '#00ffff' # cyan\n",
    "    elif val == 6 or val == 7:\n",
    "        stars['colormap'][i] = '#228b22' # forest green"
   ]
  },
  {
   "cell_type": "code",
   "execution_count": null,
   "metadata": {},
   "outputs": [],
   "source": [
    "stars"
   ]
  },
  {
   "cell_type": "code",
   "execution_count": null,
   "metadata": {},
   "outputs": [],
   "source": [
    "# display the stellar streams in the viewer\n",
    "star_ly = wwt.layers.add_data_layer(table=stars, frame='Sky',\n",
    "                                    lon_att='ra', lat_att='dec',\n",
    "                                    alt_att='dist', alt_type='distance',\n",
    "                                    cmap_att='depth', size_scale=20)\n",
    "\n",
    "star_ly.far_side_visible = True"
   ]
  },
  {
   "cell_type": "code",
   "execution_count": null,
   "metadata": {},
   "outputs": [],
   "source": [
    "# import and manipulate a table containing Sgr Dwarf's orbital data\n",
    "orbit = Table.read('https://raw.githubusercontent.com/WorldWideTelescope/pywwt-notebooks/137d6a398b4ba0b6de332cd4603e8e40c74bedcf/tutorials/data/SgrTriax_orbit.dat',\n",
    "                   format='ascii.basic')\n",
    "#orbit = Table.read('SgrTriax_orbit.dat', format='ascii.basic')\n",
    "orbit.keep_columns(['time', 'ra', 'dec', 'dist'])\n",
    "orbit['ra'].unit = u.deg\n",
    "orbit['dec'].unit = u.deg\n",
    "orbit['time'].unit = u.Gyr\n",
    "orbit['dist'] *= 1000\n",
    "#orbit.rename_column('dist', 'distance')"
   ]
  },
  {
   "cell_type": "code",
   "execution_count": null,
   "metadata": {},
   "outputs": [],
   "source": [
    "# translate times from gigayears, which are too large for pywwt, ...\n",
    "# to days -- so 1 day in the viewer translates to 1 gigayear real-time\n",
    "base = Time('2019-01-01', format='iso').jd\n",
    "orbit['wwt_times'] = base\n",
    "orbit['wwt_times'] += orbit['time']"
   ]
  },
  {
   "cell_type": "code",
   "execution_count": null,
   "metadata": {},
   "outputs": [],
   "source": [
    "orbit"
   ]
  },
  {
   "cell_type": "code",
   "execution_count": null,
   "metadata": {},
   "outputs": [],
   "source": [
    "# display Sgr Dwarf in the viewer\n",
    "orb_ly = wwt.layers.add_data_layer(table=orbit[:300], frame='Sky',\n",
    "                                   lon_att='ra', lat_att='dec',\n",
    "                                   alt_att='dist', alt_type='distance',\n",
    "                                   size_scale=20)\n",
    "\n",
    "orb_ly.far_side_visible = True"
   ]
  }
 ],
 "metadata": {
  "kernelspec": {
   "display_name": "Python 3",
   "language": "python",
   "name": "python3"
  },
  "language_info": {
   "codemirror_mode": {
    "name": "ipython",
    "version": 3
   },
   "file_extension": ".py",
   "mimetype": "text/x-python",
   "name": "python",
   "nbconvert_exporter": "python",
   "pygments_lexer": "ipython3",
   "version": "3.6.3"
  }
 },
 "nbformat": 4,
 "nbformat_minor": 2
}
