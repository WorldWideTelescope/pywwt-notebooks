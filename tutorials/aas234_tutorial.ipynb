{
 "cells": [
  {
   "cell_type": "markdown",
   "metadata": {},
   "source": [
    "## Import and initialize statements from 'Get started'\n",
    "\n",
    "*(Select a cell and press `ctrl` + `Enter` to run it.)*"
   ]
  },
  {
   "cell_type": "code",
   "execution_count": 9,
   "metadata": {},
   "outputs": [],
   "source": [
    "import time\n",
    "\n",
    "from astropy import units as u\n",
    "from astropy.coordinates import SkyCoord\n",
    "from astropy.io import fits\n",
    "from astropy.table import Table, Column\n",
    "from astropy.time import Time, TimeDelta # note capitalization\n",
    "from astropy.wcs import WCS\n",
    "\n",
    "import numpy as np\n",
    "\n",
    "from astroquery.nasa_exoplanet_archive import NasaExoplanetArchive\n",
    "from astroquery.skyview import SkyView\n",
    "\n",
    "from pywwt.jupyter import WWTJupyterWidget"
   ]
  },
  {
   "cell_type": "code",
   "execution_count": 19,
   "metadata": {},
   "outputs": [],
   "source": [
    "wwt = WWTJupyterWidget()\n",
    "wwt"
   ]
  },
  {
   "cell_type": "markdown",
   "metadata": {},
   "source": [
    "## Plot K2’s footprint and exoplanet yield."
   ]
  },
  {
   "cell_type": "markdown",
   "metadata": {},
   "source": [
    "**First, we use a class from the `astroquery` package to query NASA's Exoplanet Archive and return an `astropy` table that contains information about every confirmed exoplanet so far. It's a large table, so we'll only keep the columns necessary to run this example.**\n",
    "\n",
    "*(If the `astroquery` call doesn't load, uncomment and run the cell following it to download the table from a `pywwt`-affiliated GitHub repository.)*"
   ]
  },
  {
   "cell_type": "code",
   "execution_count": null,
   "metadata": {},
   "outputs": [],
   "source": [
    "xarch = NasaExoplanetArchive.get_confirmed_planets_table()\n",
    "xarch.keep_columns(['pl_hostname', 'pl_letter', 'st_dist', 'ra', 'dec'])"
   ]
  },
  {
   "cell_type": "code",
   "execution_count": null,
   "metadata": {},
   "outputs": [],
   "source": [
    "#xarch = Table.read('https://raw.githubusercontent.com/WorldWideTelescope/pywwt-notebooks/master/tutorials/data/k2_table.ecsv',\n",
    "#                   format='ascii.ecsv')"
   ]
  },
  {
   "cell_type": "markdown",
   "metadata": {},
   "source": [
    "*(Open a new cell above this one and see what the table looks like by entering `xarch` and running it.)*"
   ]
  },
  {
   "cell_type": "markdown",
   "metadata": {},
   "source": [
    "**Next, we slice the table twice so it only contains entries of 'b' planets observed by K2.** \n",
    "\n",
    "K2 planets and stars are named using a consistent system: \n",
    "\n",
    "```K2 + 'system number' + 'letter'```. \n",
    "\n",
    "The letter for a star is typically 'a', the first exoplanet confirmed in the system is 'b', and so on.\n",
    "\n",
    "We are plotting stars, but since the table only contains exoplanets (letters from 'b' onward), we will slice the table so only planets with the `b` suffix remain. That gives us one entry per system.\n",
    "\n",
    "**`k2_pl` searches the `xarch` column that lists star names and only keeps those with K2 at the beginning. Then, `k2_st` searches the suffix of the planet name and only keeps `b` planets.**\n",
    "\n",
    "*(If you aren't familiar with list comprehensions, see [Note 1](aas233_tutorial.ipynb#Note-1).)*"
   ]
  },
  {
   "cell_type": "code",
   "execution_count": null,
   "metadata": {},
   "outputs": [],
   "source": [
    "# select only k2 planets\n",
    "k2_pl = xarch[ [row.startswith('K2') for row in xarch['pl_hostname']] ]\n",
    "\n",
    "# select only 'b' planets from k2\n",
    "k2_st = k2_pl[ ['b' in row for row in k2_pl['pl_letter']] ]"
   ]
  },
  {
   "cell_type": "markdown",
   "metadata": {},
   "source": [
    "**After that, we load the footprint of the K2 campaign fields on the sky using pywwt's `add_fov` method.**\n",
    "\n",
    "*(Loading K2's footprint usually takes a minute, so please be patient with this step.)*"
   ]
  },
  {
   "cell_type": "code",
   "execution_count": null,
   "metadata": {},
   "outputs": [],
   "source": [
    "field = wwt.add_fov(wwt.instruments.k2)"
   ]
  },
  {
   "cell_type": "markdown",
   "metadata": {},
   "source": [
    "**Move the viewer down here and watch what happens next.**"
   ]
  },
  {
   "cell_type": "markdown",
   "metadata": {},
   "source": [
    "**Once the footprint has loaded, we finally create the data layer that will plot our points in the viewer.**\n",
    "\n",
    "`pywwt` reads the locations from the keyword arguments `lon_att` and `lat_att`, and we feed it the names of the columns in `k2_st` that contain the stellar right ascensions and declinations. We can also set other attributes like color and size in the function call."
   ]
  },
  {
   "cell_type": "code",
   "execution_count": null,
   "metadata": {},
   "outputs": [],
   "source": [
    "lay = wwt.layers.add_table_layer(table=k2_st, frame='Sky',\n",
    "                                lon_att='ra', lat_att='dec',\n",
    "                                color='#c4d600', size_scale=40)"
   ]
  },
  {
   "cell_type": "markdown",
   "metadata": {},
   "source": [
    "Do you see the points? If not, try making them larger."
   ]
  },
  {
   "cell_type": "code",
   "execution_count": null,
   "metadata": {},
   "outputs": [],
   "source": [
    "lay.size_scale *= 2"
   ]
  },
  {
   "cell_type": "markdown",
   "metadata": {},
   "source": [
    "If you want to see the points and footprint without a sky background, `pywwt` also has a black layer available."
   ]
  },
  {
   "cell_type": "code",
   "execution_count": null,
   "metadata": {},
   "outputs": [],
   "source": [
    "wwt.foreground_opacity = 0\n",
    "wwt.background = wwt.imagery.other.black"
   ]
  },
  {
   "cell_type": "markdown",
   "metadata": {},
   "source": [
    "**It is also possible to visualize data layers in `pywwt`'s 3D solar system mode. To do so, we'll switch the view.**\n",
    "\n",
    "We will also remove the K2 footprint, as `add_fov` is designed to work in 2D."
   ]
  },
  {
   "cell_type": "code",
   "execution_count": null,
   "metadata": {},
   "outputs": [],
   "source": [
    "field.remove()\n",
    "wwt.set_view('solar system')"
   ]
  },
  {
   "cell_type": "markdown",
   "metadata": {},
   "source": [
    "**Bring the viewer down here, zoom out, and you'll see K2's exoplanet-hosting stars in 3D. All of them are currently the same distance from Earth -- let's fix that.**\n",
    "\n",
    "Data layers also have attributes related to distance and altitude. We set `alt_type` to the correct type for our scenario, and let `pywwt` know which column of the table contains distance with `alt_att`."
   ]
  },
  {
   "cell_type": "code",
   "execution_count": null,
   "metadata": {},
   "outputs": [],
   "source": [
    "lay.alt_type = 'distance'\n",
    "lay.alt_att = 'st_dist'"
   ]
  },
  {
   "cell_type": "markdown",
   "metadata": {},
   "source": [
    "**Zoom out again and see the stars at their proper distances.**"
   ]
  },
  {
   "cell_type": "markdown",
   "metadata": {},
   "source": [
    "## Layer FITS images over existing all-sky surveys."
   ]
  },
  {
   "cell_type": "markdown",
   "metadata": {},
   "source": [
    "**We again use `astroquery` to get our data, this time harnessing the `SkyView` service to retrieve a FITS cutout of a portion of M101 that experienced a Type Ia supernova in 2011.**\n",
    "\n",
    "The cutout comes from a pre-event image from the highest wavelength band of 2MASS, an infrared all-sky survey. `SkyView` can also access of ther bands of 2MASS and many other surveys, as shown in [Note 2](aas233_tutorial.ipynb#Note-2).\n",
    "\n",
    "*(Again, if the `astroquery` call doesn't load, uncomment and run the cell following it to download the table from a `pywwt`-affiliated GitHub repository.)*"
   ]
  },
  {
   "cell_type": "code",
   "execution_count": 2,
   "metadata": {},
   "outputs": [],
   "source": [
    "size = 500 # choose the size of the image in pixels\n",
    "img_results = SkyView.get_images(position='SN 2011FE',\n",
    "                                 survey='2MASS-K', pixels=500)"
   ]
  },
  {
   "cell_type": "code",
   "execution_count": null,
   "metadata": {},
   "outputs": [],
   "source": [
    "# MERGE PR WITH DATA, THEN CHANGE LINK\n",
    "#img_results = [fits.open('https://raw.githubusercontent.com/...')]"
   ]
  },
  {
   "cell_type": "code",
   "execution_count": 7,
   "metadata": {},
   "outputs": [],
   "source": [
    "img_results = sn11.copy()"
   ]
  },
  {
   "cell_type": "markdown",
   "metadata": {},
   "source": [
    "Once we have the image data, we can take a look at it. Because `SkyView.get_images()` returns a list, we have to index `img_results` to get to the FITS image data itself. In this example, `img_results` is a list of one."
   ]
  },
  {
   "cell_type": "code",
   "execution_count": 8,
   "metadata": {},
   "outputs": [
    {
     "name": "stdout",
     "output_type": "stream",
     "text": [
      "Filename: (No file associated with this HDUList)\n",
      "No.    Name      Ver    Type      Cards   Dimensions   Format\n",
      "  0  PRIMARY       1 PrimaryHDU     141   (500, 500)   float32   \n"
     ]
    }
   ],
   "source": [
    "sn11 = img_results[0]\n",
    "sn11.info()"
   ]
  },
  {
   "cell_type": "markdown",
   "metadata": {},
   "source": [
    "Next, we look at the `PrimaryHDU`, or \"Header Data Unit,\" in more detail. In consists of a header and the actual image data, which we'll save as separate variables."
   ]
  },
  {
   "cell_type": "code",
   "execution_count": 13,
   "metadata": {},
   "outputs": [],
   "source": [
    "sn11_data = sn11[0].data\n",
    "sn11_header = sn11[0].header"
   ]
  },
  {
   "cell_type": "markdown",
   "metadata": {},
   "source": [
    "`pywwt` requires the image data to be structured as a 2-D array, which is what we see below.  (The dimensions here are (`size` x `size`), just as in the earlier cell that displayed output from `sn11.info()`)."
   ]
  },
  {
   "cell_type": "code",
   "execution_count": 17,
   "metadata": {},
   "outputs": [
    {
     "name": "stdout",
     "output_type": "stream",
     "text": [
      "(500, 500)\n"
     ]
    },
    {
     "data": {
      "text/plain": [
       "array([[359.08322, 358.65552, 357.8507 , ..., 357.51172, 357.50912,\n",
       "        357.82022],\n",
       "       [358.6935 , 358.98737, 358.19406, ..., 357.9415 , 357.47458,\n",
       "        357.56094],\n",
       "       [358.53577, 359.668  , 359.38986, ..., 357.59906, 356.78537,\n",
       "        357.1075 ],\n",
       "       ...,\n",
       "       [359.20923, 359.32407, 358.82938, ..., 360.84332, 360.7469 ,\n",
       "        360.21722],\n",
       "       [359.30783, 360.0317 , 359.4415 , ..., 360.42014, 361.19058,\n",
       "        361.80167],\n",
       "       [359.7121 , 360.7487 , 360.17764, ..., 359.50308, 360.78357,\n",
       "        361.92316]], dtype=float32)"
      ]
     },
     "execution_count": 17,
     "metadata": {},
     "output_type": "execute_result"
    }
   ],
   "source": [
    "print(sn11_data.shape)\n",
    "sn11_data"
   ]
  },
  {
   "cell_type": "markdown",
   "metadata": {},
   "source": [
    "The header contains base level data about the image. We will need it to create an `astropy.wcs.WCS` object, which `pywwt` uses to convert the image to its preferred coordinate system and orient the data properly on its 2-D sky projection."
   ]
  },
  {
   "cell_type": "code",
   "execution_count": 14,
   "metadata": {},
   "outputs": [
    {
     "data": {
      "text/plain": [
       "SIMPLE  =                    T / Written by SkyView Wed Jun 05 17:36:38 EDT 2019\n",
       "BITPIX  =                  -32 / 4 byte floating point                          \n",
       "NAXIS   =                    2 / Two dimensional image                          \n",
       "NAXIS1  =                  500 / Width of image                                 \n",
       "NAXIS2  =                  500 / Height of image                                \n",
       "CRVAL1  =              210.774 / Reference longitude                            \n",
       "CRVAL2  =              54.2737 / Reference latitude                             \n",
       "RADESYS = 'FK5     '           / Coordinate system                              \n",
       "EQUINOX =               2000.0 / Epoch of the equinox                           \n",
       "CTYPE1  = 'RA---TAN'           / Coordinates -- projection                      \n",
       "CTYPE2  = 'DEC--TAN'           / Coordinates -- projection                      \n",
       "CRPIX1  =                250.5 / X reference pixel                              \n",
       "CRPIX2  =                250.5 / Y reference pixel                              \n",
       "CDELT1  =        -0.0002777777 / X scale                                        \n",
       "CDELT2  =         0.0002777777 / Y scale                                        \n",
       "COMMENT                                                                         \n",
       "COMMENT SkyView Survey metadata                                                 \n",
       "COMMENT                                                                         \n",
       "COMMENT Provenance:  The Two Micron All Sky Survey is a joint project of the U  \n",
       "COMMENT          niversity of       Massachusetts and the Infrared Processing   \n",
       "COMMENT           and Analysis Center, funded by       the National Aeronauti   \n",
       "COMMENT          cs and Space Administration and the National       Science F   \n",
       "COMMENT          oundation.                                                     \n",
       "COMMENT Copyright:   Researchers are asked to include the following        ack  \n",
       "COMMENT          nowledgment in any published material that        makes use    \n",
       "COMMENT          of data products from the       Two Micron All Sky Survey (2   \n",
       "COMMENT          MASS):                       \"This publication makes use of    \n",
       "COMMENT          data products from the          Two Micron All Sky Survey, w   \n",
       "COMMENT          hich is a joint project of          the University of          \n",
       "COMMENT            Massachusetts and the Infrared Processing and Analysis Cen   \n",
       "COMMENT          ter,          funded by the National Aeronautics and Space A   \n",
       "COMMENT          dministration and         the National Science Foundation.\"    \n",
       "COMMENT                                                                         \n",
       "COMMENT Regime:      Infrared                                                   \n",
       "COMMENT NSurvey:     3                                                          \n",
       "COMMENT Frequency:   137 THz (2.17 microns)                                     \n",
       "COMMENT Bandpass:    129-222 THz                                                \n",
       "COMMENT Coverage:    All sky                                                    \n",
       "COMMENT PixelScale:  1\"/pixel                                                   \n",
       "COMMENT PixelUnits:                                                             \n",
       "COMMENT Resolution:  4\"                                                         \n",
       "COMMENT Coordinates: Equatorial                                                 \n",
       "COMMENT Equinox:     2000                                                       \n",
       "COMMENT Projection:  Orthographic (SIN)                                         \n",
       "COMMENT Epoch:       1997 - 2002                                                \n",
       "COMMENT Reference:   2MASS web site                                             \n",
       "COMMENT                                                                         \n",
       "COMMENT Survey specific cards                                                   \n",
       "COMMENT                                                                         \n",
       "SURVEY  = 'Two Micron All Sky Survey: K band'                                   \n",
       "HISTORY                                                                         \n",
       "HISTORY Settings used in processing:                                            \n",
       "HISTORY                                                                         \n",
       "HISTORY cache = /data/cache/surveys/                                            \n",
       "HISTORY catalogids = on                                                         \n",
       "HISTORY coordinates = J2000.0                                                   \n",
       "HISTORY deedger = skyview.process.Deedger                                       \n",
       "HISTORY descriptionxslt = cgifiles/description.xsl                              \n",
       "HISTORY dft_cache = ./skycache/                                                 \n",
       "HISTORY dummy                                                                   \n",
       "HISTORY equinox = 2000                                                          \n",
       "HISTORY finalpostprocessor = skyview.ij.IJProcessor,skyview.data.BoxSmoother,sky\n",
       "HISTORY float = on                                                              \n",
       "HISTORY footertemplate = cgifiles/skyfooter.html                                \n",
       "HISTORY gallerydir = /userimages                                                \n",
       "HISTORY galleryxslt = cgifiles/gallerymultipage.xsl                             \n",
       "HISTORY gridlabels = 0                                                          \n",
       "HISTORY headertemplate = cgifiles/skyheader.html                                \n",
       "HISTORY htmlwriter = skyview.request.HTMLWriter                                 \n",
       "HISTORY imagefactory = skyview.survey.CachingImageFactory                       \n",
       "HISTORY imagesize = 0.25                                                        \n",
       "HISTORY localurl = https://skyview.gsfc.nasa.gov/surveys,/skyview/htdocs/surveys\n",
       "HISTORY lut = colortables/b-w-linear.bin                                        \n",
       "HISTORY lutcbarpath = ../images/colorbars/                                      \n",
       "HISTORY mosaicker = skyview.process.Mosaicker                                   \n",
       "HISTORY name = Two Micron All Sky Survey (K-Band)                               \n",
       "HISTORY noexit =                                                                \n",
       "HISTORY nullimagedir = ../images/nodata                                         \n",
       "HISTORY output = ../../tempspace/fits/skv12715930232165                         \n",
       "HISTORY outputroot = ../../tempspace/fits                                       \n",
       "HISTORY pixels = 500                                                            \n",
       "HISTORY position = 210.774 54.2737                                              \n",
       "HISTORY postprocessor = skyview.ij.IJProcessor,skyview.request.HTMLWriter       \n",
       "HISTORY projection = Tan                                                        \n",
       "HISTORY quicklook = jpeg                                                        \n",
       "HISTORY reqxpos = 210.774                                                       \n",
       "HISTORY reqypos = 54.2737                                                       \n",
       "HISTORY resolver = SIMBAD-NED                                                   \n",
       "HISTORY rgbtemplate = cgifiles/skyrgb.html                                      \n",
       "HISTORY rgbwriter = skyview.request.RGBWriter                                   \n",
       "HISTORY sampler = Default                                                       \n",
       "HISTORY savebysurvey                                                            \n",
       "HISTORY scale = 0.0002777777                                                    \n",
       "HISTORY scaling = Log Sqrt Linear HistEq LogLog                                 \n",
       "HISTORY settingsupdaters = BatchCompatibility,SettingsFixer,skyview.request.Toas\n",
       "HISTORY shortname = 2MASSK,2MASS-K                                              \n",
       "HISTORY sia_header = ./sia.header                                               \n",
       "HISTORY siabase = https://skyview.gsfc.nasa.gov/cgi-bin/images?                 \n",
       "HISTORY siaimagetimeout = 300000                                                \n",
       "HISTORY siapcoordinates = J2000                                                 \n",
       "HISTORY siapfilterfield = VOX:BandPass_ID                                       \n",
       "HISTORY siapfiltervalue = K                                                     \n",
       "HISTORY siapnaxis = 512,1024                                                    \n",
       "HISTORY siapprojection = Sin                                                    \n",
       "HISTORY siapurl = https://irsa.ipac.caltech.edu/cgi-bin/2MASS/IM/nph-im_sia?    \n",
       "HISTORY size = 0.13888885,0.13888885                                            \n",
       "HISTORY survey = 2MASS-K                                                        \n",
       "HISTORY surveyfinder = skyview.survey.XMLSurveyFinder                           \n",
       "HISTORY surveymanifest = surveys/survey.manifest                                \n",
       "HISTORY surveyregimes = Radio,Millimeter,Infrared,Optical,Ultraviolet,X-ray,Gamm\n",
       "HISTORY surveysheader = cgifiles/survey.header                                  \n",
       "HISTORY surveytemplate = cgifiles/skysurvey.html                                \n",
       "HISTORY url.heasarcbase = https://heasarc.gsfc.nasa.gov/xamin/vo/cone?showoffset\n",
       "HISTORY url.ned = http://nedwww.ipac.caltech.edu/cgi-bin/nph-NEDobjsearch?search\n",
       "HISTORY url.simbad = http://simbad.u-strasbg.fr/simbad-conesearch.pl?           \n",
       "HISTORY url.vizierbase = http://vizier.u-strasbg.fr/viz-bin/votable/-dtd/-A?-out\n",
       "HISTORY urllocalhelp = https://skyview.gsfc.nasa.gov/help/help.html             \n",
       "HISTORY version = 3.4.3                                                         \n",
       "HISTORY webrootpath = /skyview/htdocs                                           \n",
       "HISTORY xmlurlprefix = https://skyview.gsfc.nasa.gov/current/jar/               \n",
       "HISTORY                                                                         \n",
       "HISTORY Map generated at: Wed Jun 05 17:36:38 EDT 2019                          \n",
       "HISTORY                                                                         \n",
       "HISTORY Resampler used: NNSampler                                               \n",
       "HISTORY                                                                         \n",
       "HISTORY                                                                         \n",
       "HISTORY Image mosaicking usingskyview.process.Mosaicker                         \n",
       "HISTORY                                                                         \n",
       "HISTORY  Used image:/data/cache/surveys/2MASSK/ki1180244.1603673.fits.gz        \n",
       "HISTORY       Pixels:4389                                                       \n",
       "HISTORY  Used image:/data/cache/surveys/2MASSK/ki1110021.1603631.fits.gz        \n",
       "HISTORY       Pixels:81169                                                      \n",
       "HISTORY  Used image:/data/cache/surveys/2MASSK/ki1180256.1603674.fits.gz        \n",
       "HISTORY       Pixels:164442                                                     \n",
       "HISTORY                                                                         \n",
       "HISTORY                                                                         \n",
       "HISTORY Edge adjustments applied (skyview.geometry.DeedgerList                  \n",
       "HISTORY                                                                         \n",
       "HISTORY     Image ki1110021.1603631.fits.gz offset by -14.355194091796875       \n",
       "HISTORY     Image ki1180244.1603673.fits.gz offset by -1.39166259765625         \n",
       "HISTORY                                                                         "
      ]
     },
     "execution_count": 14,
     "metadata": {},
     "output_type": "execute_result"
    }
   ],
   "source": [
    "sn11_header"
   ]
  },
  {
   "cell_type": "markdown",
   "metadata": {},
   "source": [
    "Speaking of which, let's create the WCS (World Coordinate System) object now. As stated before, all we need is the header data; `astropy`'s internals do the rest of the heavy lifting."
   ]
  },
  {
   "cell_type": "code",
   "execution_count": 18,
   "metadata": {},
   "outputs": [
    {
     "data": {
      "text/plain": [
       "WCS Keywords\n",
       "\n",
       "Number of WCS axes: 2\n",
       "CTYPE : 'RA---TAN'  'DEC--TAN'  \n",
       "CRVAL : 210.774  54.2737  \n",
       "CRPIX : 250.5  250.5  \n",
       "PC1_1 PC1_2  : 1.0  0.0  \n",
       "PC2_1 PC2_2  : 0.0  1.0  \n",
       "CDELT : -0.0002777777  0.0002777777  \n",
       "NAXIS : 500  500"
      ]
     },
     "execution_count": 18,
     "metadata": {},
     "output_type": "execute_result"
    }
   ],
   "source": [
    "WCS(sn11_header)"
   ]
  },
  {
   "cell_type": "markdown",
   "metadata": {},
   "source": [
    "At this point, we have everything we need to create an image layer, so move the `wwt` cell down to this section and re-execute it to refresh the viewer state. Then, since we're working with an IR image, we'll switch the background to match that. Finally, we make the foreground layer invisible for the sake of simplicity."
   ]
  },
  {
   "cell_type": "code",
   "execution_count": 20,
   "metadata": {},
   "outputs": [],
   "source": [
    "wwt.background = wwt.imagery.ir.twomass # do other IR surveys look good?\n",
    "wwt.foreground_opacity = 0"
   ]
  },
  {
   "cell_type": "markdown",
   "metadata": {},
   "source": [
    "**The time has come for us to load the image into pywwt.**\n",
    "\n",
    "When working directly with separate header and data objects as we've been, the `add_image_layer` method requires a tuple argument as shown below. `pywwt` will then take the viewer to the proper location and scale to see your image."
   ]
  },
  {
   "cell_type": "code",
   "execution_count": null,
   "metadata": {},
   "outputs": [],
   "source": [
    "lay = wwt.layers.add_image_layer(image=(sn11_data, WCS(sn11_header)))"
   ]
  },
  {
   "cell_type": "markdown",
   "metadata": {},
   "source": [
    "(_When the header and data are wrapped into one HDU object, we can also upload the image like so:_\n",
    "\n",
    "`wwt.layers.add_image_layer(sn11)`\n",
    "\n",
    "_It's also possible to upload FITS images from a local file by using `the/path/to/your/file` as the method's argument instead of an existing `Python` object name. `pywwt` will then automatically do the work of finding the header and data that we did in previous cells._)"
   ]
  },
  {
   "cell_type": "markdown",
   "metadata": {},
   "source": [
    "Once we see the image, we are able to edit a few of its attributes: `opacity`, `vmin`/`vmax` (the minimum and maximum flux values covered by the colormap), and `stretch` (the scaling function used to display the data)."
   ]
  },
  {
   "cell_type": "markdown",
   "metadata": {},
   "source": [
    "Changing opacity shows us that our image is indeed aligned with the background survey."
   ]
  },
  {
   "cell_type": "code",
   "execution_count": null,
   "metadata": {},
   "outputs": [],
   "source": [
    "lay.opacity = .4"
   ]
  },
  {
   "cell_type": "code",
   "execution_count": null,
   "metadata": {},
   "outputs": [],
   "source": [
    "lay.opacity = .8"
   ]
  },
  {
   "cell_type": "markdown",
   "metadata": {},
   "source": [
    "Shifting `vmin` and `vmax` changes the lower and upper bounds of our grayscale colormap.\n",
    "\n",
    "`pywwt` automatically sets these attributes such that ~99% of the data is covered, but we can adjust it depending on what exactly we'd like to emphasize in our image."
   ]
  },
  {
   "cell_type": "code",
   "execution_count": 22,
   "metadata": {},
   "outputs": [
    {
     "name": "stdout",
     "output_type": "stream",
     "text": [
      "356.3546423339844 365.4453846740723\n"
     ]
    }
   ],
   "source": [
    "print(np.percentile(sn11_data, .5), np.percentile(sn11_data, 99.5))\n",
    "print(lay.vmin, lay.vmax)"
   ]
  },
  {
   "cell_type": "code",
   "execution_count": null,
   "metadata": {},
   "outputs": [],
   "source": [
    "lay.vmin = 360"
   ]
  },
  {
   "cell_type": "code",
   "execution_count": null,
   "metadata": {},
   "outputs": [],
   "source": [
    "lay.vmax = 380"
   ]
  },
  {
   "cell_type": "markdown",
   "metadata": {},
   "source": [
    "Valid `stretch` values are: `linear`, `log`, `power`, `sqrt`, and `histeq`. `pywwt` chooses a linear stretch by default, but again, we can adjust it to fit our individual needs -- aesthetic, scientific, or anywhere in between."
   ]
  },
  {
   "cell_type": "code",
   "execution_count": null,
   "metadata": {},
   "outputs": [],
   "source": [
    "lay.stretch = 'power'"
   ]
  },
  {
   "cell_type": "markdown",
   "metadata": {},
   "source": [
    "**The great advantage of being able to upload personal FITS images into `pywwt` is that we can easily compare them with multiple surveys at once.**\n",
    "\n",
    "Since our FITS image is in infrared, we can use background all-sky surveys from `pywwt` to see M101 in three wavelengths at once. (Please give them a few seconds to load.)"
   ]
  },
  {
   "cell_type": "code",
   "execution_count": 23,
   "metadata": {},
   "outputs": [],
   "source": [
    "wwt.background = wwt.imagery.visible.sdss\n",
    "wwt.foreground = wwt.imagery.gamma.fermi\n",
    "wwt.foreground_opacity = .7"
   ]
  },
  {
   "cell_type": "markdown",
   "metadata": {},
   "source": [
    "Finally, we can use `SkyCoord` to get the exact coordinates of the supernova and `pywwt`'s ability to add shapes to the viewer to indicate the spot where the event happened."
   ]
  },
  {
   "cell_type": "code",
   "execution_count": null,
   "metadata": {},
   "outputs": [],
   "source": [
    "sn11_coord = SkyCoord.from_name('Sn 2011FE')\n",
    "circ = wwt.add_circle(sn11_coord, radius=.003*u.deg)"
   ]
  },
  {
   "cell_type": "markdown",
   "metadata": {},
   "source": [
    "As before, we can change attributes of the shape even after its creation, perhaps to even try to simulate how the supernova would have looked as it was happening."
   ]
  },
  {
   "cell_type": "code",
   "execution_count": null,
   "metadata": {},
   "outputs": [],
   "source": [
    "circ.fill = True"
   ]
  },
  {
   "cell_type": "markdown",
   "metadata": {},
   "source": [
    "*(possible foray into time series simulations)*"
   ]
  },
  {
   "cell_type": "code",
   "execution_count": null,
   "metadata": {},
   "outputs": [],
   "source": []
  },
  {
   "cell_type": "code",
   "execution_count": null,
   "metadata": {},
   "outputs": [],
   "source": []
  },
  {
   "cell_type": "code",
   "execution_count": null,
   "metadata": {},
   "outputs": [],
   "source": []
  },
  {
   "cell_type": "code",
   "execution_count": null,
   "metadata": {},
   "outputs": [],
   "source": []
  },
  {
   "cell_type": "code",
   "execution_count": null,
   "metadata": {},
   "outputs": [],
   "source": []
  },
  {
   "cell_type": "code",
   "execution_count": null,
   "metadata": {},
   "outputs": [],
   "source": []
  },
  {
   "cell_type": "code",
   "execution_count": null,
   "metadata": {},
   "outputs": [],
   "source": []
  },
  {
   "cell_type": "code",
   "execution_count": null,
   "metadata": {},
   "outputs": [],
   "source": []
  },
  {
   "cell_type": "code",
   "execution_count": null,
   "metadata": {},
   "outputs": [],
   "source": []
  },
  {
   "cell_type": "code",
   "execution_count": null,
   "metadata": {},
   "outputs": [],
   "source": []
  },
  {
   "cell_type": "code",
   "execution_count": null,
   "metadata": {},
   "outputs": [],
   "source": []
  },
  {
   "cell_type": "markdown",
   "metadata": {},
   "source": [
    "***Is it working? If so, congratulations, enjoy the view, and stay in touch! Find us at the AAS booth, discuss with others at the [WWT forum](https://wwt-forum.org/), and contribute ideas, suggestions, and fixes at our [GitHub repository](https://github.com/WorldWideTelescope/pywwt).***"
   ]
  },
  {
   "cell_type": "markdown",
   "metadata": {},
   "source": [
    "#### Note 1\n",
    "*The constructions used to build `k2_pl` and `k2_st` are called \"list comprehensions,\" and they are shortcuts for building lists. The regular, equivalent method to create `k2_st`, looks like this:*\n",
    "\n",
    "```\n",
    "index_list = []\n",
    "for i, row in enumerate(xarch, 0):\n",
    "    if row['pl_hostname'].startswith('K2'):\n",
    "        index_list.append(i)\n",
    "\n",
    "k2_pl = xarch[index_list]\n",
    "```"
   ]
  },
  {
   "cell_type": "markdown",
   "metadata": {},
   "source": [
    "#### Note 2\n",
    "\n",
    "You can see all of the layers available layers in `SkyView` by running `SkyView.list_surveys(`) or `SkyView.survey_dict()`, but be aware that these will take some time to load.\n",
    "\n",
    "To get links to image files from all bands of a particular survey, run:\n",
    "\n",
    "`SkyView.get_image_list('Sn 2011FE', survey=SkyView.survey_dict['IR:2MASS class='])`\n",
    "\n",
    "You can substitute the dictionary entry for whichever surveys are present in `SkyView.survey_dict()`. For example, if you wanted images from all bands of SDSS, the `survey` keyword argument in the call above would change to `SkyView.survey_dict['Optical:SDSS']`"
   ]
  }
 ],
 "metadata": {
  "kernelspec": {
   "display_name": "Python 3",
   "language": "python",
   "name": "python3"
  },
  "language_info": {
   "codemirror_mode": {
    "name": "ipython",
    "version": 3
   },
   "file_extension": ".py",
   "mimetype": "text/x-python",
   "name": "python",
   "nbconvert_exporter": "python",
   "pygments_lexer": "ipython3",
   "version": "3.6.3"
  }
 },
 "nbformat": 4,
 "nbformat_minor": 2
}
