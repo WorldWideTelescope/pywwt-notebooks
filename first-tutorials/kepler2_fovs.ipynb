{
 "cells": [
  {
   "cell_type": "code",
   "execution_count": null,
   "metadata": {},
   "outputs": [],
   "source": [
    "from pywwt.jupyter import WWTJupyterWidget\n",
    "from astropy.coordinates import SkyCoord, concatenate        \n",
    "from astropy import units as u\n",
    "import requests\n",
    "wwt = WWTJupyterWidget()"
   ]
  },
  {
   "cell_type": "code",
   "execution_count": null,
   "metadata": {
    "scrolled": false
   },
   "outputs": [],
   "source": [
    "wwt"
   ]
  },
  {
   "cell_type": "code",
   "execution_count": null,
   "metadata": {},
   "outputs": [],
   "source": [
    "k2_json = requests.get('https://github.com/KeplerGO/K2FootprintFiles/raw/master/json/k2-footprint.json')\n",
    "k2_dict = k2_json.json()\n",
    "channels = k2_dict['c12']['channels']"
   ]
  },
  {
   "cell_type": "code",
   "execution_count": null,
   "metadata": {},
   "outputs": [],
   "source": [
    "#wwt.clear_annotations()\n",
    "\n",
    "for index in channels:\n",
    "    ras = channels[str(index)]['corners_ra']\n",
    "    decs = channels[str(index)]['corners_dec']\n",
    "    corners = SkyCoord(ras, decs, unit=u.deg,)\n",
    "    wwt.add_polygon(corners, line_width=1.5*u.pixel, fill=True,\n",
    "                   fill_color='silver', opacity=.1)\n",
    "    \n",
    "wwt.center_on_coordinates(corners[0], fov = 30 * u.deg)\n",
    "wwt.crosshairs = False"
   ]
  },
  {
   "cell_type": "code",
   "execution_count": null,
   "metadata": {},
   "outputs": [],
   "source": [
    "wwt.background = 'Digitized Sky Survey (Color)'\n",
    "#wwt.background = 'Tycho (Synthetic, Optical)' # for zoom\n",
    "wwt.foreground = 'Planck Dust & Gas'\n",
    "wwt.foreground_opacity = .5"
   ]
  },
  {
   "cell_type": "code",
   "execution_count": null,
   "metadata": {},
   "outputs": [],
   "source": [
    "k2_138 = SkyCoord('23:15:47.77','-10:50:58.91',unit=(u.hourangle,u.deg))\n",
    "print(corners[0], k2_138)\n",
    "#wwt.center_on_coordinates(k2_138, fov=60*u.deg, instant=False)\n",
    "wwt.center_on_coordinates(k2_138, fov=1*u.deg, instant=False)\n",
    "wwt.add_circle(k2_138, fill=False, radius = 10*u.arcsec)\n",
    "#wwt.render('k2_138.png')"
   ]
  },
  {
   "cell_type": "markdown",
   "metadata": {},
   "source": [
    "## Credits\n",
    "\n",
    "This notebook was prepared by O. Justin Otor with contributions from Thomas Robitaille."
   ]
  }
 ],
 "metadata": {
  "kernelspec": {
   "display_name": "Python 3",
   "language": "python",
   "name": "python3"
  },
  "language_info": {
   "codemirror_mode": {
    "name": "ipython",
    "version": 3
   },
   "file_extension": ".py",
   "mimetype": "text/x-python",
   "name": "python",
   "nbconvert_exporter": "python",
   "pygments_lexer": "ipython3",
   "version": "3.7.3"
  }
 },
 "nbformat": 4,
 "nbformat_minor": 2
}
