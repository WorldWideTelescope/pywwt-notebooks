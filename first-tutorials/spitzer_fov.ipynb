{
 "cells": [
  {
   "cell_type": "code",
   "execution_count": null,
   "metadata": {},
   "outputs": [],
   "source": [
    "from astropy import units as u\n",
    "from astropy.coordinates import SkyCoord\n",
    "from astropy.table import Table"
   ]
  },
  {
   "cell_type": "code",
   "execution_count": null,
   "metadata": {},
   "outputs": [],
   "source": [
    "from pywwt.qt import WWTQtClient"
   ]
  },
  {
   "cell_type": "code",
   "execution_count": null,
   "metadata": {},
   "outputs": [],
   "source": [
    "data = Table.read('data/spitzer.tbl', format='ascii.ipac')\n",
    "\n",
    "modes = sorted(set(data['Instrument/Mode']))\n",
    "\n",
    "colors = ['blue', 'purple', 'pink', 'red', 'green']"
   ]
  },
  {
   "cell_type": "code",
   "execution_count": null,
   "metadata": {},
   "outputs": [],
   "source": [
    "wwt = WWTQtClient(block_until_ready=True)\n",
    "wwt.foreground_opacity = 1.0\n",
    "wwt.center_on_coordinates(SkyCoord.from_name('M31'), fov=5 * u.deg)\n",
    "\n",
    "for row in data[::5]:\n",
    "    coords = SkyCoord([row['ra1'], row['ra2'], row['ra3'], row['ra4']],\n",
    "                      [row['dec1'], row['dec2'], row['dec3'], row['dec4']], unit='deg')\n",
    "    poly = wwt.add_polygon(coords)\n",
    "    poly.line_color = colors[modes.index(row['Instrument/Mode'])]\n",
    "    poly.fill_color = colors[modes.index(row['Instrument/Mode'])]\n",
    "    poly.fill = True\n",
    "    poly.opacity = 0.1\n",
    "    poly.hover_label = True\n",
    "    poly.label = 'AOR {}'.format(row['AORKEY'])\n",
    "\n",
    "wwt.wait()"
   ]
  },
  {
   "cell_type": "markdown",
   "metadata": {},
   "source": [
    "## Credits\n",
    "\n",
    "This notebook was prepared by O. Justin Otor with contributions from Thomas Robitaille."
   ]
  }
 ],
 "metadata": {
  "kernelspec": {
   "display_name": "Python 3",
   "language": "python",
   "name": "python3"
  },
  "language_info": {
   "codemirror_mode": {
    "name": "ipython",
    "version": 3
   },
   "file_extension": ".py",
   "mimetype": "text/x-python",
   "name": "python",
   "nbconvert_exporter": "python",
   "pygments_lexer": "ipython3",
   "version": "3.7.3"
  }
 },
 "nbformat": 4,
 "nbformat_minor": 2
}
