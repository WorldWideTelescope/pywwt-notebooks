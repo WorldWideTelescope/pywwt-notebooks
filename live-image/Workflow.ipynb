{
 "cells": [
  {
   "cell_type": "markdown",
   "metadata": {},
   "source": [
    "# AAS WorldWide Telescope Live Image Creator\n",
    "\n",
    "Welcome! This notebook will walk you through the process of turning your FITS file into a \"live\" image powered by [AAS WorldWideTelescope](http://www.worldwidetelescope.org/). This interactive image can be embedded in a website or used as an interactive figure in an article in an AAS journal.\n",
    "\n",
    "You can walk through a demo with the `demo.fits` file we've included (2MASS K imagery of the location of SN2011fe), but it's more fun to use your own imagery. If you have a FITS file on hand, click the up-arrow logo in the JupyterLab file browser to upload it to the server. Right-click on the file, click \"Copy path\" to save its filename to your clipboard, and paste the filename into the first line of the code cell below.\n",
    "\n",
    "Now run the following cell to load up the image:"
   ]
  },
  {
   "cell_type": "code",
   "execution_count": null,
   "metadata": {},
   "outputs": [],
   "source": [
    "filename = 'demo.fits'  # EDIT THIS!\n",
    "hdu_index = 0  # edit this if you want to use an HDU other than the primary HDU\n",
    "\n",
    "from astropy.io import fits\n",
    "import os.path\n",
    "hdulist = fits.open(os.path.basename(filename))\n",
    "hdu = hdulist[hdu_index]"
   ]
  },
  {
   "cell_type": "markdown",
   "metadata": {},
   "source": [
    "Now we'll open the [pywwt](https://pywwt.readthedocs.io/) viewer that we'll use to display the image.\n",
    "\n",
    "**Important**: The screen will look black, but if you click and drag you will see that you are in fact exploring the night sky!"
   ]
  },
  {
   "cell_type": "code",
   "execution_count": null,
   "metadata": {},
   "outputs": [],
   "source": [
    "from pywwt.jupyter import WWTJupyterWidget\n",
    "wwt = WWTJupyterWidget()\n",
    "wwt  # when you run this cell, this line will create the WWT viewer below"
   ]
  },
  {
   "cell_type": "markdown",
   "metadata": {},
   "source": [
    "Now, let's import your image into the viewer. Run the two cells below to load the image and create interactive view controls. Besides being able to pan and zoom, you can set the background imagery and configure the stretch parameters of your image."
   ]
  },
  {
   "cell_type": "code",
   "execution_count": null,
   "metadata": {},
   "outputs": [],
   "source": [
    "img = wwt.layers.add_image_layer(hdu)\n",
    "img.controls  # this creates controls for adjusting the image parameters"
   ]
  },
  {
   "cell_type": "code",
   "execution_count": null,
   "metadata": {},
   "outputs": [],
   "source": [
    "wwt.layer_controls  # this creates controls for adjusting the contextual imagery"
   ]
  },
  {
   "cell_type": "markdown",
   "metadata": {},
   "source": [
    "When you're happy with what you've created, run the following line to export your view as a file named `figure.zip`. You can then right-click on it in the file-browser pane to your left and download it to your computer! This file can be submitted to an AAS journal as an interactive figure, or uploaded to and embedded in a personal website."
   ]
  },
  {
   "cell_type": "code",
   "execution_count": null,
   "metadata": {},
   "outputs": [],
   "source": [
    "wwt.save_as_html_bundle('figure.zip')"
   ]
  }
 ],
 "metadata": {
  "kernelspec": {
   "display_name": "Python 3",
   "language": "python",
   "name": "python3"
  },
  "language_info": {
   "codemirror_mode": {
    "name": "ipython",
    "version": 3
   },
   "file_extension": ".py",
   "mimetype": "text/x-python",
   "name": "python",
   "nbconvert_exporter": "python",
   "pygments_lexer": "ipython3",
   "version": "3.7.1"
  }
 },
 "nbformat": 4,
 "nbformat_minor": 2
}
