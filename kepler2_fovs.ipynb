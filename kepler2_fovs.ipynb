{
 "cells": [
  {
   "cell_type": "code",
   "execution_count": 1,
   "metadata": {
    "collapsed": true
   },
   "outputs": [],
   "source": [
    "from pywwt.jupyter import WWTJupyterWidget\n",
    "from astropy.coordinates import SkyCoord, concatenate        \n",
    "from astropy import units as u\n",
    "import requests\n",
    "wwt = WWTJupyterWidget()"
   ]
  },
  {
   "cell_type": "code",
   "execution_count": 2,
   "metadata": {
    "scrolled": false
   },
   "outputs": [
    {
     "data": {
      "application/vnd.jupyter.widget-view+json": {
       "model_id": "f2641c532ca7430580d53c10bb6504fa",
       "version_major": 2,
       "version_minor": 0
      },
      "text/plain": [
       "A Jupyter Widget"
      ]
     },
     "metadata": {},
     "output_type": "display_data"
    }
   ],
   "source": [
    "wwt"
   ]
  },
  {
   "cell_type": "code",
   "execution_count": 3,
   "metadata": {
    "collapsed": true
   },
   "outputs": [],
   "source": [
    "k2_json = requests.get('https://github.com/KeplerGO/K2FootprintFiles/raw/master/json/k2-footprint.json')\n",
    "k2_dict = k2_json.json()\n",
    "channels = k2_dict['c12']['channels']"
   ]
  },
  {
   "cell_type": "code",
   "execution_count": 4,
   "metadata": {
    "collapsed": true
   },
   "outputs": [],
   "source": [
    "#wwt.clear_annotations()\n",
    "\n",
    "for index in channels:\n",
    "    ras = channels[str(index)]['corners_ra']\n",
    "    decs = channels[str(index)]['corners_dec']\n",
    "    corners = SkyCoord(ras, decs, unit=u.deg,)\n",
    "    wwt.add_polygon(corners, line_width=1.5*u.pixel, fill=True,\n",
    "                   fill_color='silver', opacity=.1)\n",
    "    \n",
    "wwt.center_on_coordinates(corners[0], fov = 30 * u.deg)\n",
    "wwt.crosshairs = False"
   ]
  },
  {
   "cell_type": "code",
   "execution_count": 5,
   "metadata": {
    "collapsed": true
   },
   "outputs": [],
   "source": [
    "wwt.background = 'Digitized Sky Survey (Color)'\n",
    "#wwt.background = 'Tycho (Synthetic, Optical)' # for zoom\n",
    "wwt.foreground = 'Planck Dust & Gas'\n",
    "wwt.foreground_opacity = .5"
   ]
  },
  {
   "cell_type": "code",
   "execution_count": 6,
   "metadata": {},
   "outputs": [
    {
     "name": "stdout",
     "output_type": "stream",
     "text": [
      "<SkyCoord (ICRS): (ra, dec) in deg\n",
      "    ( 343.66460026, -5.82834393)> <SkyCoord (ICRS): (ra, dec) in deg\n",
      "    ( 348.94904167, -10.84969722)>\n"
     ]
    },
    {
     "data": {
      "text/plain": [
       "<pywwt.annotation.Circle at 0x7fe6194e6c18>"
      ]
     },
     "execution_count": 6,
     "metadata": {},
     "output_type": "execute_result"
    }
   ],
   "source": [
    "k2_138 = SkyCoord('23:15:47.77','-10:50:58.91',unit=(u.hourangle,u.deg))\n",
    "print(corners[0], k2_138)\n",
    "#wwt.center_on_coordinates(k2_138, fov=60*u.deg, instant=False)\n",
    "wwt.center_on_coordinates(k2_138, fov=1*u.deg, instant=False)\n",
    "wwt.add_circle(k2_138, fill=False, radius = 10*u.arcsec)\n",
    "#wwt.render('k2_138.png')"
   ]
  },
  {
   "cell_type": "code",
   "execution_count": 44,
   "metadata": {},
   "outputs": [
    {
     "name": "stdout",
     "output_type": "stream",
     "text": [
      "'Digitized Sky Survey (Color)'\n",
      "'VLSS: VLA Low-frequency Sky Survey (Radio)'\n",
      "'WMAP ILC 5-Year Cosmic Microwave Background'\n",
      "'Planck CMB'\n",
      "'Planck Dust & Gas'\n",
      "'SFD Dust Map (Infrared)'\n",
      "'IRIS: Improved Reprocessing of IRAS Survey (Infrared)'\n",
      "'WISE All Sky (Infrared)'\n",
      "'2Mass: Imagery (Infrared)'\n",
      "'2MASS: Catalog (Synthetic, Near Infrared)'\n",
      "'Hydrogen Alpha Full Sky Map'\n",
      "'SDSS: Sloan Digital Sky Survey (Optical)'\n",
      "'Tycho (Synthetic, Optical)'\n",
      "'USNOB: US Naval Observatory B 1.0 (Synthetic, Optical)'\n",
      "'GALEX 4 Near-UV'\n",
      "'GALEX 4 Far-UV'\n",
      "'GALEX (Ultraviolet)'\n",
      "'RASS: ROSAT All Sky Survey (X-ray)'\n",
      "'Fermi LAT 8-year (gamma)'\n",
      "'Black Sky Background'\n"
     ]
    }
   ],
   "source": [
    "for key, val in wwt.available_layers.items():\n",
    "    print(repr(key))"
   ]
  }
 ],
 "metadata": {
  "kernelspec": {
   "display_name": "Python 3",
   "language": "python",
   "name": "python3"
  },
  "language_info": {
   "codemirror_mode": {
    "name": "ipython",
    "version": 3
   },
   "file_extension": ".py",
   "mimetype": "text/x-python",
   "name": "python",
   "nbconvert_exporter": "python",
   "pygments_lexer": "ipython3",
   "version": "3.6.3"
  }
 },
 "nbformat": 4,
 "nbformat_minor": 2
}
